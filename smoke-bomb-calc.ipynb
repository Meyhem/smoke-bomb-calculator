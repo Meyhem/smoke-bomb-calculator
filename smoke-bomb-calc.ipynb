{
 "cells": [
  {
   "cell_type": "code",
   "execution_count": 15,
   "id": "13b08093-594e-4cfa-9077-f9f14b28cf6e",
   "metadata": {},
   "outputs": [
    {
     "name": "stdout",
     "output_type": "stream",
     "text": [
      "recipe:\n",
      ">paraffin: 40\n",
      ">kno: 50\n",
      ">sucrose: 32\n",
      "-----------------\n",
      "ingredients:\n",
      ">paraffin: 90\n",
      ">kno: 112.5\n",
      ">sucrose: 72.0\n"
     ]
    }
   ],
   "source": [
    "parts_paraffin = 40\n",
    "parts_kno = 50\n",
    "parts_sucrose = 32\n",
    "parts_total = parts_paraffin + parts_kno + parts_sucrose\n",
    "\n",
    "paraffin = 90\n",
    "kno = (paraffin * parts_kno) / parts_paraffin\n",
    "sucrose = (paraffin * parts_sucrose) / parts_paraffin\n",
    "print('recipe:')\n",
    "print(f'>paraffin: {parts_paraffin}')\n",
    "print(f'>kno: {parts_kno}')\n",
    "print(f'>sucrose: {parts_sucrose}')\n",
    "print('-----------------')\n",
    "print('ingredients:')\n",
    "print(f'>paraffin: {paraffin}')\n",
    "print(f'>kno: {kno}')\n",
    "print(f'>sucrose: {sucrose}')\n"
   ]
  },
  {
   "cell_type": "code",
   "execution_count": null,
   "id": "1af4f431-e9f5-45cc-8fc4-061b20b724ff",
   "metadata": {},
   "outputs": [],
   "source": []
  }
 ],
 "metadata": {
  "kernelspec": {
   "display_name": "Python 3 (ipykernel)",
   "language": "python",
   "name": "python3"
  },
  "language_info": {
   "codemirror_mode": {
    "name": "ipython",
    "version": 3
   },
   "file_extension": ".py",
   "mimetype": "text/x-python",
   "name": "python",
   "nbconvert_exporter": "python",
   "pygments_lexer": "ipython3",
   "version": "3.10.4"
  }
 },
 "nbformat": 4,
 "nbformat_minor": 5
}
